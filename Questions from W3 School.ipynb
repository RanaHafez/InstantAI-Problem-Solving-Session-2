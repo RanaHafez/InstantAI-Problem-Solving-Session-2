{
 "cells": [
  {
   "cell_type": "markdown",
   "id": "3a9c9040",
   "metadata": {},
   "source": [
    "# Problems From W3Schools and Azhar problem solving sheet First Week"
   ]
  },
  {
   "cell_type": "markdown",
   "id": "26d63d1d",
   "metadata": {},
   "source": [
    "# First: Azhar Problem "
   ]
  },
  {
   "cell_type": "markdown",
   "id": "adac0400",
   "metadata": {},
   "source": [
    "### Given two integer numbers A and B Print A+B in the first line, and A−B in the second line."
   ]
  },
  {
   "cell_type": "code",
   "execution_count": 5,
   "id": "c5225d75",
   "metadata": {},
   "outputs": [
    {
     "name": "stdout",
     "output_type": "stream",
     "text": [
      "Enter A: 12\n",
      "Enter B: 6\n",
      "A + B = 18\n",
      "A - B = 6\n"
     ]
    }
   ],
   "source": [
    "a = eval(input(\"Enter A: \"))\n",
    "b = eval(input(\"Enter B: \"))\n",
    "\n",
    "print(f\"A + B = {a+b}\")\n",
    "print(f\"A - B = {a-b}\")"
   ]
  },
  {
   "cell_type": "markdown",
   "id": "c1afb7d7",
   "metadata": {},
   "source": [
    "# B. Simple Check\n",
    "### Given three integer numbers A , B and C .\n",
    "### If A≥B and B≥C , Print \"YES\" (without quotes). Otherwise, Print \"NO\" (without quotes)."
   ]
  },
  {
   "cell_type": "code",
   "execution_count": 6,
   "id": "ee0d78e6",
   "metadata": {},
   "outputs": [
    {
     "name": "stdout",
     "output_type": "stream",
     "text": [
      "Passed NO\n",
      "Passed YES\n"
     ]
    }
   ],
   "source": [
    "tests = [ [(1, 2, 3), \"NO\"], [(20, 14, 9), \"YES\"]]\n",
    "\n",
    "def simple_check(test):\n",
    "    a, b, c = test[0]\n",
    "    ans = \"\"\n",
    "    if a >= b and b >= c:\n",
    "        ans = \"YES\"\n",
    "    else:\n",
    "        ans = \"NO\"\n",
    "    \n",
    "    return f\"Passed {ans}\" if ans == test[1] else f\"Failed {ans}\"\n",
    "\n",
    "for test in tests:\n",
    "    print(simple_check(test))"
   ]
  },
  {
   "cell_type": "markdown",
   "id": "a9d6ce82",
   "metadata": {},
   "source": [
    "# C. Reverse \n",
    "## Given one integer number N. Print the digits of N in reverse order. Note: Print each digit in one line."
   ]
  },
  {
   "cell_type": "code",
   "execution_count": 8,
   "id": "29b184ec",
   "metadata": {},
   "outputs": [
    {
     "name": "stdout",
     "output_type": "stream",
     "text": [
      "Enter a number: 456\n",
      "6\n",
      "5\n",
      "4\n",
      "--------------\n",
      "6\n",
      "5\n",
      "4\n"
     ]
    }
   ],
   "source": [
    "num = int(input(\"Enter a number: \"))\n",
    "# One Way is to convert it to a string first then reverse it \n",
    "# and print each charachter is printed\n",
    "for n in str(num)[::-1]:\n",
    "    print(n)\n",
    "\n",
    "print(\"--------------\")\n",
    "# Second Way using Modulo operator and division\n",
    "while num > 0:\n",
    "    x = num % 10\n",
    "    num = num // 10\n",
    "    print(x)"
   ]
  },
  {
   "cell_type": "markdown",
   "id": "63e12b49",
   "metadata": {},
   "source": [
    "# D. Friendship \n",
    "###  Given a String S of length N, consists of 'A' and 'M' letters only.\n",
    "###  If number of occurrences of 'A' > number of occurrences of 'M', Print \"Ahmed\" (without quotes).\n",
    "\n",
    "### If number of occurrences of 'A' < number of occurrences of 'M', Print \"Mostafa\" (without quotes).\n",
    "\n",
    "###  If number of occurrences of 'A' = number of occurrences of 'M', Print \"Friendship\" (without quotes)."
   ]
  },
  {
   "cell_type": "code",
   "execution_count": 9,
   "id": "2e2b64b4",
   "metadata": {},
   "outputs": [
    {
     "name": "stdout",
     "output_type": "stream",
     "text": [
      "Enter a string consisting only of A and M: AAAMMMAAAAAAAAM\n",
      "Ahmed\n"
     ]
    }
   ],
   "source": [
    "s = input(\"Enter a string consisting only of A and M: \")\n",
    "num_a = s.count(\"A\")\n",
    "num_b = s.count(\"M\")\n",
    "\n",
    "if num_a > num_b:\n",
    "    print(\"Ahmed\")\n",
    "elif num_a < num_b:\n",
    "    print(\"Mostafa\")\n",
    "else:\n",
    "    print(\"Friendship\")"
   ]
  },
  {
   "cell_type": "markdown",
   "id": "768ce4df",
   "metadata": {},
   "source": [
    "# E. Good Array\n",
    "\n",
    "### You are given an array A of length N.\n",
    "###  You should print \"Good\" (without quotes) if A doesn't contain any 1's and doesn't contain any 3's. Otherwise, Print \"Bad\" (without quotes).\n",
    "\n",
    "### For example, the array [5,7,4,81] is Good, but [1,8,2] and [5,4,3] are Bad"
   ]
  },
  {
   "cell_type": "code",
   "execution_count": 10,
   "id": "c6280fea",
   "metadata": {},
   "outputs": [
    {
     "name": "stdout",
     "output_type": "stream",
     "text": [
      "Good\n",
      "Bad\n",
      "Bad\n",
      "Bad\n"
     ]
    }
   ],
   "source": [
    "tests = [ [9,2,4,5],[20,1,5], [3,32,6,6], [1,3,15]]\n",
    "\n",
    "def good_arr(test):\n",
    "    if 1 not in test and 3 not in test:\n",
    "        print(\"Good\")\n",
    "    else:\n",
    "        print(\"Bad\")\n",
    "        \n",
    "for test in tests:\n",
    "    good_arr(test)"
   ]
  },
  {
   "cell_type": "markdown",
   "id": "0e0c91a9",
   "metadata": {},
   "source": [
    "# F. Beautiful Matrix\n",
    "## You are given a 2D array A of size N∗N.\n",
    "\n",
    "## Calculate the number of pairs i,j (0≤i,j≤N−1), such that elements of rowi equal elements of columnj."
   ]
  },
  {
   "cell_type": "code",
   "execution_count": 12,
   "id": "8ecee399",
   "metadata": {},
   "outputs": [],
   "source": [
    "l = [[1,2,3],[2,5,6],[3,4,4]]\n",
    "k = [[1,1,1], [1,1,1], [1,1,1]]\n",
    "# for i in range(len(l)):\n",
    "#     row = l[i]\n",
    "#     for j in range(len(row)):\n",
    "#         column = [l[j][x] for x in range(len(row))]\n",
    "#     print(column)"
   ]
  },
  {
   "cell_type": "code",
   "execution_count": 13,
   "id": "5266ae26",
   "metadata": {},
   "outputs": [
    {
     "name": "stdout",
     "output_type": "stream",
     "text": [
      "9\n"
     ]
    }
   ],
   "source": [
    "import numpy as np\n",
    "n = np.array(k)\n",
    "n.shape[0]\n",
    "ans = 0\n",
    "for i in range(n.shape[0]):\n",
    "    row = n[i, :]\n",
    "    for j in range(n.shape[1]):\n",
    "        column = n[:, j]\n",
    "        if (row == column).all():\n",
    "            ans += 1\n",
    "print(ans)"
   ]
  },
  {
   "cell_type": "markdown",
   "id": "490386b5",
   "metadata": {},
   "source": [
    "--------------------------------------------------------------------"
   ]
  },
  {
   "cell_type": "markdown",
   "id": "acdb5d94",
   "metadata": {},
   "source": [
    "# W3 School Resource Questions"
   ]
  },
  {
   "cell_type": "markdown",
   "id": "775d5d52",
   "metadata": {},
   "source": [
    "### 1- Write a Python program to print the following string in a specific format (see the output)\n",
    "Sample String : \"Twinkle, twinkle, little star, How I wonder what you are! Up above the world so high, Like a diamond in the sky. Twinkle, twinkle, little star, How I wonder what you are\" Output :\n",
    "\n",
    "Twinkle, twinkle, little star,\n",
    "\tHow I wonder what you are! \n",
    "\t\tUp above the world so high,   \t\t\n",
    "\t\tLike a diamond in the sky. \n",
    "Twinkle, twinkle, little star, \n",
    "\tHow I wonder what you are"
   ]
  },
  {
   "cell_type": "code",
   "execution_count": 14,
   "id": "34b1a06b",
   "metadata": {},
   "outputs": [
    {
     "name": "stdout",
     "output_type": "stream",
     "text": [
      "Twinkle, twinkle, little star,\n",
      "\tHow I wonder what you are!\n",
      "\t\tUp above the world so high,\n",
      "\t\tLike a diamond in the sky.\n",
      "Twinkle, twinkle, little star,\n",
      "\tHow I wonder what you are\n"
     ]
    }
   ],
   "source": [
    "print(\"Twinkle, twinkle, little star,\\n\\tHow I wonder what you are!\\n\\t\\tUp above the world so high,\\n\\t\\tLike a diamond in the sky.\\nTwinkle, twinkle, little star,\\n\\tHow I wonder what you are\")"
   ]
  },
  {
   "cell_type": "markdown",
   "id": "5f0b9f27",
   "metadata": {},
   "source": [
    "### 2 - Write a Python program to find out what version of Python you are using"
   ]
  },
  {
   "cell_type": "code",
   "execution_count": 15,
   "id": "88433a86",
   "metadata": {},
   "outputs": [
    {
     "name": "stdout",
     "output_type": "stream",
     "text": [
      "3.9.13 (main, Aug 25 2022, 23:51:50) [MSC v.1916 64 bit (AMD64)]\n"
     ]
    }
   ],
   "source": [
    "import sys\n",
    "# this is the system\n",
    "print(sys.version)"
   ]
  },
  {
   "cell_type": "markdown",
   "id": "dcbf2642",
   "metadata": {},
   "source": [
    "### 3 - Write a Python program to display the current date and time.\n",
    "Sample Output :\n",
    "Current date and time :\n",
    "2014-07-05 14:34:14"
   ]
  },
  {
   "cell_type": "code",
   "execution_count": 16,
   "id": "4ad8de1e",
   "metadata": {},
   "outputs": [
    {
     "name": "stdout",
     "output_type": "stream",
     "text": [
      "2023-03-19 22:26:56\n"
     ]
    }
   ],
   "source": [
    "# first we need to import the datetime module\n",
    "import datetime as dt\n",
    "current = dt.datetime.now()\n",
    "print(current.strftime(\"%Y-%m-%d %H:%M:%S\"))"
   ]
  },
  {
   "cell_type": "markdown",
   "id": "0b2b196a",
   "metadata": {},
   "source": [
    "### 4. Write a Python program that calculates the area of a circle based on the radius entered by the user"
   ]
  },
  {
   "cell_type": "code",
   "execution_count": 24,
   "id": "49dcc08d",
   "metadata": {},
   "outputs": [
    {
     "data": {
      "text/plain": [
       "3.8013271108436504"
      ]
     },
     "execution_count": 24,
     "metadata": {},
     "output_type": "execute_result"
    }
   ],
   "source": [
    "import math\n",
    "def count_area_of_circle(r):\n",
    "    return math.pi * math.pow(r, 2)\n",
    "count_area_of_circle(1.1)"
   ]
  },
  {
   "cell_type": "markdown",
   "id": "8ba07a10",
   "metadata": {},
   "source": [
    "### 5. Write a Python program that accepts the user's first and last name and prints them in reverse order with a space between them"
   ]
  },
  {
   "cell_type": "code",
   "execution_count": 25,
   "id": "27e229c0",
   "metadata": {},
   "outputs": [
    {
     "name": "stdout",
     "output_type": "stream",
     "text": [
      "First Name: Rana\n",
      "Second Name: Hafez\n",
      "anaR zefaH\n"
     ]
    }
   ],
   "source": [
    "fName = input(\"First Name: \")\n",
    "lName = input(\"Second Name: \")\n",
    "\n",
    "print(fName[::-1] + \" \" + lName[::-1])"
   ]
  },
  {
   "cell_type": "markdown",
   "id": "2655e224",
   "metadata": {},
   "source": [
    "### 6. Write a Python program that accepts a sequence of comma-separated numbers from the user and generates a list and a tuple of those numbers."
   ]
  },
  {
   "cell_type": "code",
   "execution_count": 26,
   "id": "04f43c13",
   "metadata": {},
   "outputs": [
    {
     "name": "stdout",
     "output_type": "stream",
     "text": [
      "Enter Numbers with a comma-separated3, 5, 7, 23\n",
      "['3', '5', '7', '23']\n",
      "('3', '5', '7', '23')\n"
     ]
    }
   ],
   "source": [
    "data = input(\"Enter Numbers with a comma-separated\")\n",
    "\n",
    "# split method creates a list\n",
    "l1 = data.split(\", \")\n",
    "t1 = tuple(l1)\n",
    "\n",
    "print(l1)\n",
    "print(t1)"
   ]
  },
  {
   "cell_type": "markdown",
   "id": "55986961",
   "metadata": {},
   "source": [
    "### 7. Write a Python program that accepts a filename from the user and prints the extension of the file"
   ]
  },
  {
   "cell_type": "code",
   "execution_count": 29,
   "id": "6032c255",
   "metadata": {},
   "outputs": [
    {
     "name": "stdout",
     "output_type": "stream",
     "text": [
      "Enter the FileName: abc.java\n",
      "Extension: java\n"
     ]
    }
   ],
   "source": [
    "fileName = input(\"Enter the FileName: \")\n",
    "if \".\" not in fileName:\n",
    "    print(\"Enter File With Extension\")\n",
    "else:\n",
    "    print(f\"Extension: {fileName.split('.')[1]}\")"
   ]
  },
  {
   "cell_type": "markdown",
   "id": "2bd54995",
   "metadata": {},
   "source": [
    "### 8. Write a Python program to display the first and last colors from the following list.\n",
    "### color_list = [\"Red\",\"Green\",\"White\" ,\"Black\"]"
   ]
  },
  {
   "cell_type": "code",
   "execution_count": 31,
   "id": "5f75cbc2",
   "metadata": {},
   "outputs": [
    {
     "name": "stdout",
     "output_type": "stream",
     "text": [
      "First: Red, Last: Black\n"
     ]
    }
   ],
   "source": [
    "color_list = [\"Red\",\"Green\",\"White\" ,\"Black\"]\n",
    "print(f\"First: {color_list[0]}, Last: {color_list[len(color_list)-1]}\")"
   ]
  },
  {
   "cell_type": "markdown",
   "id": "6744100b",
   "metadata": {},
   "source": [
    "### 9. Write a Python program to display the examination schedule. (extract the date from exam_st_date).\n",
    "### exam_st_date = (11, 12, 2014)\n",
    "### Sample Output : The examination will start from : 11 / 12 / 2014"
   ]
  },
  {
   "cell_type": "code",
   "execution_count": 35,
   "id": "bb4bc108",
   "metadata": {},
   "outputs": [
    {
     "name": "stdout",
     "output_type": "stream",
     "text": [
      "11 / 12 / 2014\n",
      "11 / 12 / 2014\n"
     ]
    }
   ],
   "source": [
    "exam_st_date = (11, 12, 2014)\n",
    "print(f\"{exam_st_date[0]} / {exam_st_date[1]} / {exam_st_date[2]}\")\n",
    "print(\"{0} / {1} / {2}\".format(exam_st_date[0], exam_st_date[1], exam_st_date[2]))"
   ]
  },
  {
   "cell_type": "markdown",
   "id": "ae7e50f2",
   "metadata": {},
   "source": [
    "### 10. Write a Python program that accepts an integer (n) and computes the value of n+nn+nnn\n",
    "Sample value of n is 5 <br>\n",
    "Expected Result : 615"
   ]
  },
  {
   "cell_type": "code",
   "execution_count": 40,
   "id": "dd6001ce",
   "metadata": {},
   "outputs": [
    {
     "name": "stdout",
     "output_type": "stream",
     "text": [
      "615\n"
     ]
    }
   ],
   "source": [
    "def q10(n):\n",
    "    return int(str(n)) + int(str(n) * 2) + int(str(n) * 3)\n",
    "print(q10(5))"
   ]
  },
  {
   "cell_type": "markdown",
   "id": "94fd6543",
   "metadata": {},
   "source": [
    "### 11. Write a Python program to print the documents (syntax, description etc.) of Python built-in function(s).\n",
    "Sample function : abs()\n",
    "Expected Result :\n",
    "abs(number) -> number\n",
    "Return the absolute value of the argument."
   ]
  },
  {
   "cell_type": "code",
   "execution_count": 85,
   "id": "b6738924",
   "metadata": {},
   "outputs": [
    {
     "data": {
      "text/plain": [
       "'Documentation: This is for Testing'"
      ]
     },
     "execution_count": 85,
     "metadata": {},
     "output_type": "execute_result"
    }
   ],
   "source": [
    "def method_to_test():\n",
    "    \"\"\"Documentation: This is for Testing\"\"\"\n",
    "    print(\"Method\")\n",
    "    \n",
    "method_to_test.__doc__"
   ]
  },
  {
   "cell_type": "markdown",
   "id": "bc15a2ca",
   "metadata": {},
   "source": [
    "### 12. Write a Python program that prints the calendar for a given month and year.\n",
    "Note : Use 'calendar' module."
   ]
  },
  {
   "cell_type": "code",
   "execution_count": 87,
   "id": "903c3119",
   "metadata": {},
   "outputs": [
    {
     "name": "stdout",
     "output_type": "stream",
     "text": [
      "Enter the Year: 2023\n",
      "Enter the Month: 4\n",
      "     April 2023\n",
      "Mo Tu We Th Fr Sa Su\n",
      "                1  2\n",
      " 3  4  5  6  7  8  9\n",
      "10 11 12 13 14 15 16\n",
      "17 18 19 20 21 22 23\n",
      "24 25 26 27 28 29 30\n",
      "\n"
     ]
    }
   ],
   "source": [
    "import calendar\n",
    "y = int(input(\"Enter the Year: \"))\n",
    "m = int(input(\"Enter the Month: \"))\n",
    "\n",
    "print(calendar.month(y, m))"
   ]
  },
  {
   "cell_type": "markdown",
   "id": "e2e726a8",
   "metadata": {},
   "source": [
    "### 13. Write a Python program to print the following 'here document'.\n",
    "\n",
    "### Sample string :\n",
    "### a string that you \"don't\" have to escape\n",
    "###  This\n",
    "### is a ....... multi-line\n",
    "### heredoc string --------> example"
   ]
  },
  {
   "cell_type": "code",
   "execution_count": 42,
   "id": "bfa8ff56",
   "metadata": {},
   "outputs": [
    {
     "name": "stdout",
     "output_type": "stream",
     "text": [
      "a string that you \"don't\" have to escape\n",
      "This\n",
      "is a ....... multi-line\n",
      "heredoc string --------> example\n",
      "\n"
     ]
    }
   ],
   "source": [
    "print(\"\"\"a string that you \"don't\" have to escape\n",
    "This\n",
    "is a ....... multi-line\n",
    "heredoc string --------> example\n",
    "\"\"\")"
   ]
  },
  {
   "cell_type": "markdown",
   "id": "91a6e6e2",
   "metadata": {},
   "source": [
    "# 14. Write a Python program to calculate the number of days between two dates.\n",
    "Sample dates : (2014, 7, 2), (2014, 7, 11)\n",
    "Expected output : 9 days"
   ]
  },
  {
   "cell_type": "code",
   "execution_count": 49,
   "id": "c80770f5",
   "metadata": {},
   "outputs": [
    {
     "name": "stdout",
     "output_type": "stream",
     "text": [
      "9 days, 0:00:00\n"
     ]
    }
   ],
   "source": [
    "first_date = dt.datetime(2014, 7, 2)\n",
    "second_date = dt.datetime(2014, 7, 11)\n",
    "\n",
    "print(second_date - first_date)"
   ]
  },
  {
   "cell_type": "markdown",
   "id": "16c89038",
   "metadata": {},
   "source": [
    "### 15. Write a Python program to get the volume of a sphere with radius six.\n",
    "\n",
    "<img src=\"https://media.geeksforgeeks.org/wp-content/uploads/20220808153443/volumeofsphere.jpg\">"
   ]
  },
  {
   "cell_type": "code",
   "execution_count": 50,
   "id": "b7f70778",
   "metadata": {},
   "outputs": [
    {
     "name": "stdout",
     "output_type": "stream",
     "text": [
      "508.93800988154646\n"
     ]
    }
   ],
   "source": [
    "r = 6 \n",
    "volume = (3/4) * math.pi * math.pow(r, 3)\n",
    "print(volume)"
   ]
  },
  {
   "cell_type": "markdown",
   "id": "ae04da58",
   "metadata": {},
   "source": [
    "### 16. Write a Python program to calculate the difference between a given number and 17. If the number is greater than 17, return twice the absolute difference"
   ]
  },
  {
   "cell_type": "code",
   "execution_count": 52,
   "id": "f598a145",
   "metadata": {},
   "outputs": [
    {
     "name": "stdout",
     "output_type": "stream",
     "text": [
      "6\n",
      "15\n"
     ]
    }
   ],
   "source": [
    "def differece_17(num):\n",
    "    if num > 17:\n",
    "        return abs(num - 17) * 2\n",
    "    return 17 - num\n",
    "\n",
    "print(differece_17(20))\n",
    "print(differece_17(2))"
   ]
  },
  {
   "cell_type": "markdown",
   "id": "83d4308f",
   "metadata": {},
   "source": [
    "### 17. Write a Python program to test whether a number is within 100 of 1000 or 2000."
   ]
  },
  {
   "cell_type": "code",
   "execution_count": 92,
   "id": "b7cedc9c",
   "metadata": {},
   "outputs": [
    {
     "data": {
      "text/plain": [
       "True"
      ]
     },
     "execution_count": 92,
     "metadata": {},
     "output_type": "execute_result"
    }
   ],
   "source": [
    "def test_thousand(n):\n",
    "    return ((1000 - n) <= 100) or ((2000 - n) <= 100)\n",
    "test_thousand(900)"
   ]
  },
  {
   "cell_type": "markdown",
   "id": "e5baefbe",
   "metadata": {},
   "source": [
    "### 18. Write a Python program to calculate the sum of three given numbers. If the values are equal, return three times their sum."
   ]
  },
  {
   "cell_type": "code",
   "execution_count": 53,
   "id": "2d648137",
   "metadata": {},
   "outputs": [
    {
     "name": "stdout",
     "output_type": "stream",
     "text": [
      "6\n",
      "81\n"
     ]
    }
   ],
   "source": [
    "def q18(n1, n2, n3):\n",
    "    if n1 == n2 and n2 == n3:\n",
    "        return 3 * (n1 + n2 + n3)\n",
    "    return n1 + n2 + n3\n",
    "\n",
    "print(q18(2, 3, 1))\n",
    "print(q18(9, 9, 9))"
   ]
  },
  {
   "cell_type": "markdown",
   "id": "3d00635b",
   "metadata": {},
   "source": [
    "### 19. Write a Python program to get a newly-generated string from a given string where \"Is\" has been added to the front. Return the string unchanged if the given string already begins with \"Is\""
   ]
  },
  {
   "cell_type": "code",
   "execution_count": 58,
   "id": "90d419b9",
   "metadata": {},
   "outputs": [
    {
     "name": "stdout",
     "output_type": "stream",
     "text": [
      "Is Today Happy Day\n",
      "Is Today a Happy Day\n"
     ]
    }
   ],
   "source": [
    "def q19(s):\n",
    "#     print(s.startswith(\"Is\"))\n",
    "    if s.startswith(\"Is\") or s.startswith(\"is\"):\n",
    "        return s\n",
    "    return \"Is \" + s\n",
    "\n",
    "print(q19(\"Today Happy Day\"))\n",
    "print(q19(\"Is Today a Happy Day\"))"
   ]
  },
  {
   "cell_type": "markdown",
   "id": "4bd16e0c",
   "metadata": {},
   "source": [
    "### 20. Write a Python program that returns a string that is n (non-negative integer) copies of a given string."
   ]
  },
  {
   "cell_type": "code",
   "execution_count": 59,
   "id": "8235edbd",
   "metadata": {},
   "outputs": [
    {
     "name": "stdout",
     "output_type": "stream",
     "text": [
      "StringStringString\n"
     ]
    }
   ],
   "source": [
    "def triple_string(s, n):\n",
    "    return s * abs(n)\n",
    "print(triple_string(\"String\", 3))"
   ]
  },
  {
   "cell_type": "markdown",
   "id": "dcfc260c",
   "metadata": {},
   "source": [
    "### 21 Write a Python program that determines whether a given number (accepted from the user) is even or odd, and prints an appropriate message to the user "
   ]
  },
  {
   "cell_type": "code",
   "execution_count": 60,
   "id": "6ea96753",
   "metadata": {},
   "outputs": [
    {
     "name": "stdout",
     "output_type": "stream",
     "text": [
      "Enter a number: .. 5\n",
      "Odd\n"
     ]
    }
   ],
   "source": [
    "num = eval(input(\"Enter a number: .. \"))\n",
    "if num%2 == 0:\n",
    "    print(\"Even\")\n",
    "else:\n",
    "    print(\"Odd\")"
   ]
  },
  {
   "cell_type": "markdown",
   "id": "14a5be7a",
   "metadata": {},
   "source": [
    "### 22. Write a Python program to count the number 4 in a given list."
   ]
  },
  {
   "cell_type": "code",
   "execution_count": 61,
   "id": "7d7fb6dc",
   "metadata": {},
   "outputs": [
    {
     "name": "stdout",
     "output_type": "stream",
     "text": [
      "1\n",
      "0\n",
      "3\n"
     ]
    }
   ],
   "source": [
    "def count_four(l):\n",
    "    return l.count(4)\n",
    "\n",
    "print(count_four([1,2,3,4]))\n",
    "print(count_four([1,2,3,5]))\n",
    "print(count_four([4,4,4]))"
   ]
  },
  {
   "cell_type": "markdown",
   "id": "96a89535",
   "metadata": {},
   "source": [
    "### 23. Write a Python program to get n (non-negative integer) copies of the first 2 characters of a given string. Return n copies of the whole string if the length is less than 2"
   ]
  },
  {
   "cell_type": "code",
   "execution_count": 63,
   "id": "783550cb",
   "metadata": {},
   "outputs": [
    {
     "name": "stdout",
     "output_type": "stream",
     "text": [
      "abab\n",
      "HHHHHH\n"
     ]
    }
   ],
   "source": [
    "def q23(s, n):\n",
    "    length = 2\n",
    "    if len(s) < 2:\n",
    "        return s * n\n",
    "    return s[:2] * n\n",
    "\n",
    "print(q23(\"abcabc\", 2))\n",
    "print(q23(\"H\", 6))"
   ]
  },
  {
   "cell_type": "markdown",
   "id": "82cbdee2",
   "metadata": {},
   "source": [
    "### 24. Write a Python program to test whether a passed letter is a vowel or not."
   ]
  },
  {
   "cell_type": "code",
   "execution_count": 64,
   "id": "5ea6119f",
   "metadata": {},
   "outputs": [
    {
     "name": "stdout",
     "output_type": "stream",
     "text": [
      "False\n",
      "True\n"
     ]
    }
   ],
   "source": [
    "def check_vowel(letter):\n",
    "    vowel = \"ioeua\"\n",
    "    if letter in vowel:\n",
    "        return True\n",
    "    return False\n",
    "\n",
    "print(check_vowel(\"s\"))\n",
    "print(check_vowel(\"i\"))"
   ]
  },
  {
   "cell_type": "markdown",
   "id": "25a72ec7",
   "metadata": {},
   "source": [
    "### 25. Write a Python program that checks whether a specified value is contained within a group of values\n",
    "#### 3 -> [1, 5, 8, 3] : True\n",
    "#### -1 -> [1, 5, 8, 3] : False"
   ]
  },
  {
   "cell_type": "code",
   "execution_count": 65,
   "id": "5aa4d941",
   "metadata": {},
   "outputs": [
    {
     "name": "stdout",
     "output_type": "stream",
     "text": [
      "True\n",
      "False\n"
     ]
    }
   ],
   "source": [
    "def check_group(n, nums):\n",
    "    return n in nums\n",
    "\n",
    "print(check_group(3, [1, 5, 8, 3]))\n",
    "print(check_group(-1, [1, 5, 8, 3]))"
   ]
  },
  {
   "cell_type": "markdown",
   "id": "1af91afe",
   "metadata": {},
   "source": [
    "### 26. Write a Python program to create a histogram from a given list of integers."
   ]
  },
  {
   "cell_type": "code",
   "execution_count": 68,
   "id": "3e7deec4",
   "metadata": {},
   "outputs": [
    {
     "name": "stdout",
     "output_type": "stream",
     "text": [
      "*\n",
      "****\n",
      "*\n",
      "*****\n"
     ]
    }
   ],
   "source": [
    "def create_histogram(nums):\n",
    "    ans = \"\"\n",
    "    for num in nums:\n",
    "        temp = \"*\" * num\n",
    "        ans += temp + \"\\n\"\n",
    "    return ans.rstrip()\n",
    "\n",
    "print(create_histogram([1,4,1,5]))"
   ]
  },
  {
   "cell_type": "markdown",
   "id": "b9eadf95",
   "metadata": {},
   "source": [
    "### 27. Write a Python program that concatenates all elements in a list into a string and returns it"
   ]
  },
  {
   "cell_type": "code",
   "execution_count": 69,
   "id": "b1f55cc7",
   "metadata": {},
   "outputs": [
    {
     "name": "stdout",
     "output_type": "stream",
     "text": [
      "123\n"
     ]
    }
   ],
   "source": [
    "def concatenate_list(nums):\n",
    "    ans = \"\"\n",
    "    for num in nums:\n",
    "        ans += str(num)\n",
    "    return ans\n",
    "\n",
    "print(concatenate_list([1,2,3]))"
   ]
  },
  {
   "cell_type": "markdown",
   "id": "be888da6",
   "metadata": {},
   "source": [
    "### 28. Write a Python program to print all even numbers from a given list of numbers in the same order and stop printing any after 237 in the sequence."
   ]
  },
  {
   "cell_type": "code",
   "execution_count": 71,
   "id": "2336cb79",
   "metadata": {},
   "outputs": [
    {
     "name": "stdout",
     "output_type": "stream",
     "text": [
      "386\n",
      "462\n",
      "418\n",
      "344\n",
      "236\n",
      "566\n",
      "978\n",
      "328\n",
      "162\n",
      "758\n",
      "918\n"
     ]
    }
   ],
   "source": [
    "numbers = [    \n",
    "    386, 462, 47, 418, 907, 344, 236, 375, 823, 566, 597, 978, 328, 615, 953, 345, \n",
    "    399, 162, 758, 219, 918, 237, 412, 566, 826, 248, 866, 950, 626, 949, 687, 217, \n",
    "    815, 67, 104, 58, 512, 24, 892, 894, 767, 553, 81, 379, 843, 831, 445, 742, 717, \n",
    "    958,743, 527\n",
    "    ]\n",
    "\n",
    "for num in numbers:\n",
    "    if num == 237:\n",
    "        break\n",
    "    elif num % 2 == 0:\n",
    "        print(num)"
   ]
  },
  {
   "cell_type": "markdown",
   "id": "9618fa53",
   "metadata": {},
   "source": [
    "### 29. Write a Python program that prints out all colors from color_list_1 that are not present in color_list_2."
   ]
  },
  {
   "cell_type": "code",
   "execution_count": 72,
   "id": "f75018b2",
   "metadata": {},
   "outputs": [
    {
     "name": "stdout",
     "output_type": "stream",
     "text": [
      "{'White', 'Black'}\n"
     ]
    }
   ],
   "source": [
    "color_list_1 = set([\"White\", \"Black\", \"Red\"])\n",
    "color_list_2 = set([\"Red\", \"Green\"])\n",
    "\n",
    "print(color_list_1.difference(color_list_2))"
   ]
  },
  {
   "cell_type": "markdown",
   "id": "b05e8f2b",
   "metadata": {},
   "source": [
    "### 30. Write a Python program that will accept the base and height of a triangle and compute its area"
   ]
  },
  {
   "cell_type": "code",
   "execution_count": 73,
   "id": "06b94da2",
   "metadata": {},
   "outputs": [
    {
     "name": "stdout",
     "output_type": "stream",
     "text": [
      "13.5\n"
     ]
    }
   ],
   "source": [
    "def area_triangle(base, height):\n",
    "    return (1/2) * base * height\n",
    "\n",
    "print(area_triangle(9, 3))"
   ]
  },
  {
   "cell_type": "markdown",
   "id": "33a6873d",
   "metadata": {},
   "source": [
    "### 31. Write a Python program that computes the greatest common divisor (GCD) of two positive integers."
   ]
  },
  {
   "cell_type": "markdown",
   "id": "46d5ea30",
   "metadata": {},
   "source": [
    "### 32. Write a Python program to find the least common multiple (LCM) of two positive integers."
   ]
  },
  {
   "cell_type": "markdown",
   "id": "e515ce3b",
   "metadata": {},
   "source": [
    "### 33. Write a Python program to sum three given integers. However, if two values are equal, the sum will be zero"
   ]
  },
  {
   "cell_type": "code",
   "execution_count": 76,
   "id": "bfb3608e",
   "metadata": {},
   "outputs": [
    {
     "name": "stdout",
     "output_type": "stream",
     "text": [
      "16\n",
      "0\n"
     ]
    }
   ],
   "source": [
    "def sum_three(n1, n2, n3):\n",
    "    if n1 != n2 and n2 != n3 and n1 != n3:\n",
    "        return n1 + n2 +n3\n",
    "    elif n1 == n2 or n2 == n3 or n1 == n3:\n",
    "        return 0\n",
    "    \n",
    "print(sum_three(6, 7, 3))\n",
    "print(sum_three(3, 3, 2))"
   ]
  },
  {
   "cell_type": "markdown",
   "id": "d6e63fc8",
   "metadata": {},
   "source": [
    "### 34. Write a Python program to sum two given integers. However, if the sum is between 15 and 20 it will return 20"
   ]
  },
  {
   "cell_type": "code",
   "execution_count": 78,
   "id": "59812786",
   "metadata": {},
   "outputs": [
    {
     "name": "stdout",
     "output_type": "stream",
     "text": [
      "8\n",
      "20\n"
     ]
    }
   ],
   "source": [
    "def sum_two(n1 , n2):\n",
    "    s = n1 + n2\n",
    "    if s >= 15 and s <= 20:\n",
    "        return 20\n",
    "    return s\n",
    "\n",
    "print(sum_two(5, 3))\n",
    "print(sum_two(8, 10))"
   ]
  },
  {
   "cell_type": "markdown",
   "id": "e9797651",
   "metadata": {},
   "source": [
    "### 35. Write a Python program that returns true if the two given integer values are equal or their sum or difference is 5"
   ]
  },
  {
   "cell_type": "code",
   "execution_count": 81,
   "id": "d56f7aad",
   "metadata": {},
   "outputs": [
    {
     "name": "stdout",
     "output_type": "stream",
     "text": [
      "True\n",
      "True\n",
      "False\n"
     ]
    }
   ],
   "source": [
    "def Q35(n1, n2):\n",
    "    summ = n1 + n2\n",
    "    diff = n1 - n2\n",
    "    \n",
    "    if n1 == n2 and n1 == 5:\n",
    "        return True\n",
    "    \n",
    "    elif summ == 5 or diff == 5:\n",
    "        return True\n",
    "    return False\n",
    "\n",
    "print(Q35(5,5))\n",
    "print(Q35(2,3))\n",
    "print(Q35(6,5))"
   ]
  },
  {
   "cell_type": "markdown",
   "id": "f900c2ec",
   "metadata": {},
   "source": [
    "### 36. Write a Python program to add two objects if both objects are integers"
   ]
  },
  {
   "cell_type": "code",
   "execution_count": 82,
   "id": "d6f1f8eb",
   "metadata": {},
   "outputs": [
    {
     "name": "stdout",
     "output_type": "stream",
     "text": [
      "Sum is 3\n"
     ]
    }
   ],
   "source": [
    "def add_objs(ob1, ob2):\n",
    "    if isinstance(ob1, int) and isinstance(ob2, int):\n",
    "        return f\"Sum is {ob1 + ob2}\"\n",
    "    return \"Not Int\"\n",
    "\n",
    "print(add_objs(1, 2))"
   ]
  },
  {
   "cell_type": "markdown",
   "id": "21fba477",
   "metadata": {},
   "source": [
    "### 37. Write a Python program that displays your name, age, and address on three different lines."
   ]
  },
  {
   "cell_type": "code",
   "execution_count": 83,
   "id": "cdb6fe44",
   "metadata": {},
   "outputs": [
    {
     "name": "stdout",
     "output_type": "stream",
     "text": [
      "Rana Hafez\n",
      "23\n",
      "ADDRESS\n"
     ]
    }
   ],
   "source": [
    "print(\"Rana Hafez\\n23\\nADDRESS\")"
   ]
  },
  {
   "cell_type": "markdown",
   "id": "a5941072",
   "metadata": {},
   "source": [
    "### 38. Write a Python program to solve (x + y) * (x + y)"
   ]
  },
  {
   "cell_type": "code",
   "execution_count": 84,
   "id": "b77db75d",
   "metadata": {},
   "outputs": [
    {
     "name": "stdout",
     "output_type": "stream",
     "text": [
      "49\n"
     ]
    }
   ],
   "source": [
    "def solve_program(x, y):\n",
    "    return (x+y) * (x+y)\n",
    "\n",
    "print(solve_program(4, 3))"
   ]
  },
  {
   "cell_type": "markdown",
   "id": "e2042f51",
   "metadata": {},
   "source": [
    "### 58. Write a Python program to sum the first n positive integers."
   ]
  },
  {
   "cell_type": "code",
   "execution_count": 95,
   "id": "da53a720",
   "metadata": {},
   "outputs": [],
   "source": [
    "def firstN(n):\n",
    "    s = 0\n",
    "    for i in range(len(n)):\n",
    "        s += i\n",
    "    return s"
   ]
  }
 ],
 "metadata": {
  "kernelspec": {
   "display_name": "Python 3 (ipykernel)",
   "language": "python",
   "name": "python3"
  },
  "language_info": {
   "codemirror_mode": {
    "name": "ipython",
    "version": 3
   },
   "file_extension": ".py",
   "mimetype": "text/x-python",
   "name": "python",
   "nbconvert_exporter": "python",
   "pygments_lexer": "ipython3",
   "version": "3.9.13"
  }
 },
 "nbformat": 4,
 "nbformat_minor": 5
}
